{
 "cells": [
  {
   "cell_type": "code",
   "execution_count": null,
   "metadata": {},
   "outputs": [],
   "source": [
    "import kagglehub\n",
    "\n",
    "\n",
    "\n",
    "# Download latest version\n",
    "path = kagglehub.dataset_download(\"ankushpanday1/global-road-accidents-dataset\")\n",
    "\n",
    "print(\"Path to dataset files:\", path)"
   ]
  },
  {
   "cell_type": "code",
   "execution_count": null,
   "metadata": {},
   "outputs": [],
   "source": [
    "import seaborn as sns\n",
    "import pandas as pd\n",
    "\n",
    "data = pd.read_csv(path+'/road_accident_dataset.csv')\n",
    "data.head()"
   ]
  },
  {
   "cell_type": "code",
   "execution_count": null,
   "metadata": {},
   "outputs": [],
   "source": [
    "data.shape\n",
    "sample = data\n",
    "sample.shape"
   ]
  },
  {
   "cell_type": "code",
   "execution_count": 113,
   "metadata": {},
   "outputs": [
    {
     "data": {
      "text/plain": [
       "132000"
      ]
     },
     "execution_count": 113,
     "metadata": {},
     "output_type": "execute_result"
    }
   ],
   "source": [
    "len(sample.index)"
   ]
  },
  {
   "cell_type": "code",
   "execution_count": null,
   "metadata": {},
   "outputs": [],
   "source": [
    "sample.tail()"
   ]
  },
  {
   "cell_type": "code",
   "execution_count": 114,
   "metadata": {},
   "outputs": [
    {
     "data": {
      "text/plain": [
       "object     14\n",
       "int64       9\n",
       "float64     7\n",
       "Name: count, dtype: int64"
      ]
     },
     "execution_count": 114,
     "metadata": {},
     "output_type": "execute_result"
    }
   ],
   "source": [
    "pd.value_counts(sample.dtypes)"
   ]
  },
  {
   "cell_type": "code",
   "execution_count": 115,
   "metadata": {},
   "outputs": [
    {
     "data": {
      "text/plain": [
       "Country                         object\n",
       "Year                             int64\n",
       "Month                           object\n",
       "Day of Week                     object\n",
       "Time of Day                     object\n",
       "Urban/Rural                     object\n",
       "Road Type                       object\n",
       "Weather Conditions              object\n",
       "Visibility Level               float64\n",
       "Number of Vehicles Involved      int64\n",
       "Speed Limit                      int64\n",
       "Driver Age Group                object\n",
       "Driver Gender                   object\n",
       "Driver Alcohol Level           float64\n",
       "Driver Fatigue                   int64\n",
       "Vehicle Condition               object\n",
       "Pedestrians Involved             int64\n",
       "Cyclists Involved                int64\n",
       "Accident Severity               object\n",
       "Number of Injuries               int64\n",
       "Number of Fatalities             int64\n",
       "Emergency Response Time        float64\n",
       "Traffic Volume                 float64\n",
       "Road Condition                  object\n",
       "Accident Cause                  object\n",
       "Insurance Claims                 int64\n",
       "Medical Cost                   float64\n",
       "Economic Loss                  float64\n",
       "Region                          object\n",
       "Population Density             float64\n",
       "dtype: object"
      ]
     },
     "execution_count": 115,
     "metadata": {},
     "output_type": "execute_result"
    }
   ],
   "source": [
    "sample.dtypes"
   ]
  },
  {
   "cell_type": "code",
   "execution_count": null,
   "metadata": {},
   "outputs": [],
   "source": [
    "# Display non-numerical features\n",
    "sample.select_dtypes(exclude=\"number\").head(3)"
   ]
  },
  {
   "cell_type": "code",
   "execution_count": null,
   "metadata": {},
   "outputs": [],
   "source": [
    "# Display non-numerical features\n",
    "sample.select_dtypes(include=\"number\").head(3)"
   ]
  },
  {
   "cell_type": "code",
   "execution_count": null,
   "metadata": {},
   "outputs": [],
   "source": [
    "sample.Country.nunique()\n",
    "sample.nunique()"
   ]
  },
  {
   "cell_type": "code",
   "execution_count": null,
   "metadata": {},
   "outputs": [],
   "source": [
    "# Map gender values to integers\n",
    "gender_mapping = {'Male': 1, 'Female': 0}\n",
    "# sample[\"Driver Gender\"] = sample[\"Driver Gender\"].map(gender_mapping).astype(\"int8\")\n",
    "sample[\"Driver Gender\"]\n",
    "sample.select_dtypes(include=\"number\").head()"
   ]
  },
  {
   "cell_type": "code",
   "execution_count": null,
   "metadata": {},
   "outputs": [],
   "source": [
    "sample.info()"
   ]
  },
  {
   "cell_type": "code",
   "execution_count": null,
   "metadata": {},
   "outputs": [],
   "source": [
    "sample.values"
   ]
  },
  {
   "cell_type": "code",
   "execution_count": 116,
   "metadata": {},
   "outputs": [
    {
     "data": {
      "text/html": [
       "<div>\n",
       "<style scoped>\n",
       "    .dataframe tbody tr th:only-of-type {\n",
       "        vertical-align: middle;\n",
       "    }\n",
       "\n",
       "    .dataframe tbody tr th {\n",
       "        vertical-align: top;\n",
       "    }\n",
       "\n",
       "    .dataframe thead th {\n",
       "        text-align: right;\n",
       "    }\n",
       "</style>\n",
       "<table border=\"1\" class=\"dataframe\">\n",
       "  <thead>\n",
       "    <tr style=\"text-align: right;\">\n",
       "      <th></th>\n",
       "      <th>count</th>\n",
       "      <th>mean</th>\n",
       "      <th>std</th>\n",
       "      <th>min</th>\n",
       "      <th>25%</th>\n",
       "      <th>50%</th>\n",
       "      <th>75%</th>\n",
       "      <th>max</th>\n",
       "    </tr>\n",
       "  </thead>\n",
       "  <tbody>\n",
       "    <tr>\n",
       "      <th>Year</th>\n",
       "      <td>132000.0</td>\n",
       "      <td>2011.973348</td>\n",
       "      <td>7.198624</td>\n",
       "      <td>2000.000000</td>\n",
       "      <td>2006.000000</td>\n",
       "      <td>2012.000000</td>\n",
       "      <td>2018.000000</td>\n",
       "      <td>2024.000000</td>\n",
       "    </tr>\n",
       "    <tr>\n",
       "      <th>Visibility Level</th>\n",
       "      <td>132000.0</td>\n",
       "      <td>275.038776</td>\n",
       "      <td>129.923625</td>\n",
       "      <td>50.001928</td>\n",
       "      <td>162.338860</td>\n",
       "      <td>274.672990</td>\n",
       "      <td>388.014111</td>\n",
       "      <td>499.999646</td>\n",
       "    </tr>\n",
       "    <tr>\n",
       "      <th>Number of Vehicles Involved</th>\n",
       "      <td>132000.0</td>\n",
       "      <td>2.501227</td>\n",
       "      <td>1.117272</td>\n",
       "      <td>1.000000</td>\n",
       "      <td>2.000000</td>\n",
       "      <td>3.000000</td>\n",
       "      <td>3.000000</td>\n",
       "      <td>4.000000</td>\n",
       "    </tr>\n",
       "    <tr>\n",
       "      <th>Speed Limit</th>\n",
       "      <td>132000.0</td>\n",
       "      <td>74.544068</td>\n",
       "      <td>26.001448</td>\n",
       "      <td>30.000000</td>\n",
       "      <td>52.000000</td>\n",
       "      <td>74.000000</td>\n",
       "      <td>97.000000</td>\n",
       "      <td>119.000000</td>\n",
       "    </tr>\n",
       "    <tr>\n",
       "      <th>Driver Alcohol Level</th>\n",
       "      <td>132000.0</td>\n",
       "      <td>0.125232</td>\n",
       "      <td>0.072225</td>\n",
       "      <td>0.000002</td>\n",
       "      <td>0.062630</td>\n",
       "      <td>0.125468</td>\n",
       "      <td>0.187876</td>\n",
       "      <td>0.249999</td>\n",
       "    </tr>\n",
       "    <tr>\n",
       "      <th>Driver Fatigue</th>\n",
       "      <td>132000.0</td>\n",
       "      <td>0.500576</td>\n",
       "      <td>0.500002</td>\n",
       "      <td>0.000000</td>\n",
       "      <td>0.000000</td>\n",
       "      <td>1.000000</td>\n",
       "      <td>1.000000</td>\n",
       "      <td>1.000000</td>\n",
       "    </tr>\n",
       "    <tr>\n",
       "      <th>Pedestrians Involved</th>\n",
       "      <td>132000.0</td>\n",
       "      <td>1.000773</td>\n",
       "      <td>0.816304</td>\n",
       "      <td>0.000000</td>\n",
       "      <td>0.000000</td>\n",
       "      <td>1.000000</td>\n",
       "      <td>2.000000</td>\n",
       "      <td>2.000000</td>\n",
       "    </tr>\n",
       "    <tr>\n",
       "      <th>Cyclists Involved</th>\n",
       "      <td>132000.0</td>\n",
       "      <td>0.998356</td>\n",
       "      <td>0.817764</td>\n",
       "      <td>0.000000</td>\n",
       "      <td>0.000000</td>\n",
       "      <td>1.000000</td>\n",
       "      <td>2.000000</td>\n",
       "      <td>2.000000</td>\n",
       "    </tr>\n",
       "    <tr>\n",
       "      <th>Number of Injuries</th>\n",
       "      <td>132000.0</td>\n",
       "      <td>9.508205</td>\n",
       "      <td>5.774366</td>\n",
       "      <td>0.000000</td>\n",
       "      <td>5.000000</td>\n",
       "      <td>9.000000</td>\n",
       "      <td>15.000000</td>\n",
       "      <td>19.000000</td>\n",
       "    </tr>\n",
       "    <tr>\n",
       "      <th>Number of Fatalities</th>\n",
       "      <td>132000.0</td>\n",
       "      <td>1.995439</td>\n",
       "      <td>1.412974</td>\n",
       "      <td>0.000000</td>\n",
       "      <td>1.000000</td>\n",
       "      <td>2.000000</td>\n",
       "      <td>3.000000</td>\n",
       "      <td>4.000000</td>\n",
       "    </tr>\n",
       "    <tr>\n",
       "      <th>Emergency Response Time</th>\n",
       "      <td>132000.0</td>\n",
       "      <td>32.491746</td>\n",
       "      <td>15.889537</td>\n",
       "      <td>5.000177</td>\n",
       "      <td>18.732879</td>\n",
       "      <td>32.534944</td>\n",
       "      <td>46.289527</td>\n",
       "      <td>59.999588</td>\n",
       "    </tr>\n",
       "    <tr>\n",
       "      <th>Traffic Volume</th>\n",
       "      <td>132000.0</td>\n",
       "      <td>5041.929098</td>\n",
       "      <td>2860.671611</td>\n",
       "      <td>100.062626</td>\n",
       "      <td>2560.601299</td>\n",
       "      <td>5037.909855</td>\n",
       "      <td>7524.638162</td>\n",
       "      <td>9999.997468</td>\n",
       "    </tr>\n",
       "    <tr>\n",
       "      <th>Insurance Claims</th>\n",
       "      <td>132000.0</td>\n",
       "      <td>4.495621</td>\n",
       "      <td>2.867347</td>\n",
       "      <td>0.000000</td>\n",
       "      <td>2.000000</td>\n",
       "      <td>4.000000</td>\n",
       "      <td>7.000000</td>\n",
       "      <td>9.000000</td>\n",
       "    </tr>\n",
       "    <tr>\n",
       "      <th>Medical Cost</th>\n",
       "      <td>132000.0</td>\n",
       "      <td>25198.454901</td>\n",
       "      <td>14274.771691</td>\n",
       "      <td>500.110090</td>\n",
       "      <td>12836.933596</td>\n",
       "      <td>25188.202669</td>\n",
       "      <td>37529.024899</td>\n",
       "      <td>49999.930130</td>\n",
       "    </tr>\n",
       "    <tr>\n",
       "      <th>Economic Loss</th>\n",
       "      <td>132000.0</td>\n",
       "      <td>50437.505615</td>\n",
       "      <td>28584.290822</td>\n",
       "      <td>1000.335085</td>\n",
       "      <td>25692.817343</td>\n",
       "      <td>50395.499874</td>\n",
       "      <td>75186.626093</td>\n",
       "      <td>99999.622968</td>\n",
       "    </tr>\n",
       "    <tr>\n",
       "      <th>Population Density</th>\n",
       "      <td>132000.0</td>\n",
       "      <td>2506.476223</td>\n",
       "      <td>1440.646352</td>\n",
       "      <td>10.002669</td>\n",
       "      <td>1258.158299</td>\n",
       "      <td>2506.203333</td>\n",
       "      <td>3756.652950</td>\n",
       "      <td>4999.991745</td>\n",
       "    </tr>\n",
       "  </tbody>\n",
       "</table>\n",
       "</div>"
      ],
      "text/plain": [
       "                                count          mean           std  \\\n",
       "Year                         132000.0   2011.973348      7.198624   \n",
       "Visibility Level             132000.0    275.038776    129.923625   \n",
       "Number of Vehicles Involved  132000.0      2.501227      1.117272   \n",
       "Speed Limit                  132000.0     74.544068     26.001448   \n",
       "Driver Alcohol Level         132000.0      0.125232      0.072225   \n",
       "Driver Fatigue               132000.0      0.500576      0.500002   \n",
       "Pedestrians Involved         132000.0      1.000773      0.816304   \n",
       "Cyclists Involved            132000.0      0.998356      0.817764   \n",
       "Number of Injuries           132000.0      9.508205      5.774366   \n",
       "Number of Fatalities         132000.0      1.995439      1.412974   \n",
       "Emergency Response Time      132000.0     32.491746     15.889537   \n",
       "Traffic Volume               132000.0   5041.929098   2860.671611   \n",
       "Insurance Claims             132000.0      4.495621      2.867347   \n",
       "Medical Cost                 132000.0  25198.454901  14274.771691   \n",
       "Economic Loss                132000.0  50437.505615  28584.290822   \n",
       "Population Density           132000.0   2506.476223   1440.646352   \n",
       "\n",
       "                                     min           25%           50%  \\\n",
       "Year                         2000.000000   2006.000000   2012.000000   \n",
       "Visibility Level               50.001928    162.338860    274.672990   \n",
       "Number of Vehicles Involved     1.000000      2.000000      3.000000   \n",
       "Speed Limit                    30.000000     52.000000     74.000000   \n",
       "Driver Alcohol Level            0.000002      0.062630      0.125468   \n",
       "Driver Fatigue                  0.000000      0.000000      1.000000   \n",
       "Pedestrians Involved            0.000000      0.000000      1.000000   \n",
       "Cyclists Involved               0.000000      0.000000      1.000000   \n",
       "Number of Injuries              0.000000      5.000000      9.000000   \n",
       "Number of Fatalities            0.000000      1.000000      2.000000   \n",
       "Emergency Response Time         5.000177     18.732879     32.534944   \n",
       "Traffic Volume                100.062626   2560.601299   5037.909855   \n",
       "Insurance Claims                0.000000      2.000000      4.000000   \n",
       "Medical Cost                  500.110090  12836.933596  25188.202669   \n",
       "Economic Loss                1000.335085  25692.817343  50395.499874   \n",
       "Population Density             10.002669   1258.158299   2506.203333   \n",
       "\n",
       "                                      75%           max  \n",
       "Year                          2018.000000   2024.000000  \n",
       "Visibility Level               388.014111    499.999646  \n",
       "Number of Vehicles Involved      3.000000      4.000000  \n",
       "Speed Limit                     97.000000    119.000000  \n",
       "Driver Alcohol Level             0.187876      0.249999  \n",
       "Driver Fatigue                   1.000000      1.000000  \n",
       "Pedestrians Involved             2.000000      2.000000  \n",
       "Cyclists Involved                2.000000      2.000000  \n",
       "Number of Injuries              15.000000     19.000000  \n",
       "Number of Fatalities             3.000000      4.000000  \n",
       "Emergency Response Time         46.289527     59.999588  \n",
       "Traffic Volume                7524.638162   9999.997468  \n",
       "Insurance Claims                 7.000000      9.000000  \n",
       "Medical Cost                 37529.024899  49999.930130  \n",
       "Economic Loss                75186.626093  99999.622968  \n",
       "Population Density            3756.652950   4999.991745  "
      ]
     },
     "execution_count": 116,
     "metadata": {},
     "output_type": "execute_result"
    }
   ],
   "source": [
    "sample.describe().T"
   ]
  },
  {
   "cell_type": "code",
   "execution_count": null,
   "metadata": {},
   "outputs": [],
   "source": [
    "sample.describe(exclude=\"number\").T"
   ]
  },
  {
   "cell_type": "code",
   "execution_count": null,
   "metadata": {},
   "outputs": [],
   "source": [
    "# For each numerical feature compute number of unique entries\n",
    "uniqueVal = sample.select_dtypes(include=\"number\").nunique().sort_values()\n",
    "print(uniqueVal)"
   ]
  },
  {
   "cell_type": "code",
   "execution_count": null,
   "metadata": {},
   "outputs": [],
   "source": [
    "# For each numeric Titlel feature compute number of unique entries\n",
    "uniqueValCaag = sample.select_dtypes(exclude=\"number\").nunique().sort_values()\n",
    "print(uniqueVal)"
   ]
  },
  {
   "cell_type": "code",
   "execution_count": null,
   "metadata": {},
   "outputs": [],
   "source": [
    "# Plot information with y-axis in log-scale\n",
    "uniqueVal.plot.bar(logy=True, figsize=(11, 3), title=\"Unique values per feature\")"
   ]
  },
  {
   "cell_type": "code",
   "execution_count": null,
   "metadata": {},
   "outputs": [],
   "source": [
    "sample.duplicated()"
   ]
  },
  {
   "cell_type": "code",
   "execution_count": null,
   "metadata": {},
   "outputs": [],
   "source": [
    "sample.isna()"
   ]
  },
  {
   "cell_type": "code",
   "execution_count": null,
   "metadata": {},
   "outputs": [],
   "source": [
    "sample.notna().sample(5)"
   ]
  },
  {
   "cell_type": "code",
   "execution_count": null,
   "metadata": {},
   "outputs": [],
   "source": [
    "# imshow(.): display data as an image, i.e., on a 2D regular raster.\n",
    "import matplotlib.pyplot as plt\n",
    "\n",
    "plt.figure(figsize=(10, 8))\n",
    "plt.imshow(sample.isna(), aspect=\"auto\", interpolation=\"nearest\", cmap=\"gray\")\n",
    "plt.xlabel(\"Column Number\")\n",
    "plt.ylabel(\"Sample Number\")"
   ]
  },
  {
   "cell_type": "code",
   "execution_count": null,
   "metadata": {},
   "outputs": [],
   "source": [
    "# axis = 0 we drop the whole row\n",
    "# since we don't have null values in our dataset\n",
    "# sample.dropna(axis=0, how='all').shape\n",
    "# Get the total number of NaN values\n",
    "sample.isna().sum()"
   ]
  },
  {
   "cell_type": "code",
   "execution_count": 106,
   "metadata": {},
   "outputs": [],
   "source": [
    "numericValues = sample.select_dtypes(include=\"number\")"
   ]
  },
  {
   "cell_type": "code",
   "execution_count": null,
   "metadata": {},
   "outputs": [],
   "source": [
    "\n",
    "numericValues.corr()"
   ]
  },
  {
   "cell_type": "code",
   "execution_count": null,
   "metadata": {},
   "outputs": [],
   "source": [
    "import seaborn as sns\n",
    "corr = numericValues.corr()\n",
    "\n",
    "# Plot heatmap\n",
    "plt.figure(figsize=(8, 6))\n",
    "sns.heatmap(corr, annot=True, cmap='coolwarm', fmt=\".2f\", linewidths=0.5)\n",
    "plt.title(\"Correlation Heatmap\")\n",
    "plt.show()"
   ]
  },
  {
   "cell_type": "code",
   "execution_count": 112,
   "metadata": {},
   "outputs": [
    {
     "data": {
      "text/plain": [
       "array([[-2.83291077e+04,  1.53654647e+04,  2.37839122e+03,\n",
       "        -1.36466026e+03,  5.40802109e+01],\n",
       "       [-4.09460464e+04, -1.86176316e+04, -5.85015683e+02,\n",
       "         1.74929928e+02,  1.06070883e+02],\n",
       "       [ 7.58133954e+03,  3.94654534e+03,  4.81309698e+03,\n",
       "        -1.90890687e+03, -6.66825201e+01],\n",
       "       ...,\n",
       "       [-4.23061784e+04, -4.06102856e+02,  1.82118274e+03,\n",
       "        -1.69238402e+03,  2.00098378e+02],\n",
       "       [-3.28571751e+04, -1.16350271e+04, -3.51946235e+03,\n",
       "        -3.99979319e+02, -1.72189241e+00],\n",
       "       [-2.27223777e+04, -2.19070034e+04,  2.61491691e+03,\n",
       "        -4.44315995e+02,  2.06740502e+01]])"
      ]
     },
     "execution_count": 112,
     "metadata": {},
     "output_type": "execute_result"
    }
   ],
   "source": [
    "from sklearn.decomposition import PCA\n",
    "\n",
    "pca = PCA(n_components=5)\n",
    "X_pca = pca.fit_transform(numericValues)\n",
    "X_pca"
   ]
  }
 ],
 "metadata": {
  "kernelspec": {
   "display_name": "Python 3",
   "language": "python",
   "name": "python3"
  },
  "language_info": {
   "codemirror_mode": {
    "name": "ipython",
    "version": 3
   },
   "file_extension": ".py",
   "mimetype": "text/x-python",
   "name": "python",
   "nbconvert_exporter": "python",
   "pygments_lexer": "ipython3",
   "version": "3.10.7"
  }
 },
 "nbformat": 4,
 "nbformat_minor": 2
}
